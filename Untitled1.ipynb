{
 "cells": [
  {
   "cell_type": "code",
   "execution_count": 3,
   "id": "fb067c5e",
   "metadata": {},
   "outputs": [
    {
     "name": "stdout",
     "output_type": "stream",
     "text": [
      "1\n",
      "2\n",
      "3\n",
      "4\n",
      "5\n",
      "6\n",
      "7\n",
      "8\n",
      "9\n",
      "10\n"
     ]
    }
   ],
   "source": [
    "Exercise 1: Print First 10 natural numbers using while loop\n",
    "\n",
    "num = 1\n",
    "\n",
    "while num <= 10:\n",
    "    print(num)\n",
    "    num += 1"
   ]
  },
  {
   "cell_type": "code",
   "execution_count": 18,
   "id": "7fcd8121",
   "metadata": {},
   "outputs": [
    {
     "name": "stdout",
     "output_type": "stream",
     "text": [
      "1\n",
      "12\n",
      "123\n",
      "1234\n",
      "12345\n"
     ]
    }
   ],
   "source": [
    "Exercise 2: Print the following pattern\n",
    "    \n",
    "1 \n",
    "1 2 \n",
    "1 2 3 \n",
    "1 2 3 4 \n",
    "1 2 3 4 5\n",
    "\n",
    "\n",
    "\n",
    "num = 6\n",
    "\n",
    "for i in range(1,num):\n",
    "    for j in range(1,i+1):\n",
    "        print(j,end = '')\n",
    "    print()\n",
    "    "
   ]
  },
  {
   "cell_type": "code",
   "execution_count": 21,
   "id": "479ca7f8",
   "metadata": {},
   "outputs": [
    {
     "name": "stdout",
     "output_type": "stream",
     "text": [
      "5050\n"
     ]
    }
   ],
   "source": [
    "Exercise 3: Calculate the sum of all numbers from 1 to a given number\n",
    "\n",
    "result = 0\n",
    "\n",
    "num = 100\n",
    "\n",
    "for i in range(1,num+1):\n",
    "    result = result + i\n",
    "    \n",
    "print(result)"
   ]
  },
  {
   "cell_type": "code",
   "execution_count": 23,
   "id": "567d0d1a",
   "metadata": {},
   "outputs": [
    {
     "name": "stdout",
     "output_type": "stream",
     "text": [
      "5050\n"
     ]
    }
   ],
   "source": [
    "num = 100\n",
    "\n",
    "result = sum(range(1, num+1))\n",
    "print(result)"
   ]
  },
  {
   "cell_type": "code",
   "execution_count": 24,
   "id": "4071728c",
   "metadata": {},
   "outputs": [
    {
     "name": "stdout",
     "output_type": "stream",
     "text": [
      "Enter number: 2\n",
      "2 x 1 = 2\n",
      "2 x 2 = 4\n",
      "2 x 3 = 6\n",
      "2 x 4 = 8\n",
      "2 x 5 = 10\n",
      "2 x 6 = 12\n",
      "2 x 7 = 14\n",
      "2 x 8 = 16\n",
      "2 x 9 = 18\n",
      "2 x 10 = 20\n"
     ]
    }
   ],
   "source": [
    "Exercise 4: Write a program to print multiplication table of a given number\n",
    "    \n",
    "\n",
    "num = int(input(\"Enter number: \"))\n",
    "\n",
    "for i in range(1,11):\n",
    "    print(f'{num} x {i} = {num * i}')"
   ]
  },
  {
   "cell_type": "code",
   "execution_count": 26,
   "id": "bb29885a",
   "metadata": {},
   "outputs": [
    {
     "name": "stdout",
     "output_type": "stream",
     "text": [
      "75\n",
      "150\n",
      "145\n",
      "50\n"
     ]
    }
   ],
   "source": [
    "'''Exercise 5: Display numbers from a list using loop\n",
    "    The number must be divisible by five\n",
    "    If the number is greater than 150, then skip it and move to the next number\n",
    "    If the number is greater than 500, then stop the loop'''\n",
    "    \n",
    "    \n",
    "numbers = [12, 75, 150, 180, 145, 525, 50]\n",
    "    \n",
    "for i in numbers:\n",
    "    if i % 5 == 0:\n",
    "        if i > 150:\n",
    "            continue\n",
    "        elif i>500:\n",
    "            break\n",
    "        else:\n",
    "            print(i)"
   ]
  },
  {
   "cell_type": "code",
   "execution_count": 28,
   "id": "df36f04c",
   "metadata": {},
   "outputs": [
    {
     "name": "stdout",
     "output_type": "stream",
     "text": [
      "6\n"
     ]
    }
   ],
   "source": [
    "\"\"\"Exercise 6: Count the total number of digits in a number\"\"\"\n",
    "\n",
    "number = 984578\n",
    "count = 0\n",
    "\n",
    "while number != 0:\n",
    "    number = number // 10\n",
    "    count = count +1 \n",
    "    \n",
    "print(count)\n",
    "    \n",
    "\n"
   ]
  },
  {
   "cell_type": "code",
   "execution_count": 46,
   "id": "2abcd61b",
   "metadata": {},
   "outputs": [
    {
     "name": "stdout",
     "output_type": "stream",
     "text": [
      "54321\n",
      "4321\n",
      "321\n",
      "21\n",
      "1\n",
      "\n"
     ]
    }
   ],
   "source": [
    "\"\"\"Exercise 7: Print the following pattern\"\"\"\n",
    "\n",
    "\"\"\"5 4 3 2 1 \n",
    "4 3 2 1 \n",
    "3 2 1 \n",
    "2 1 \n",
    "1\"\"\"\n",
    "\n",
    "a = 5\n",
    "b = 5\n",
    "\n",
    "for i in range(0 , a+1,1):\n",
    "    for j in range(b-i, 0, -1):\n",
    "        print(j, end = '')\n",
    "    print('')\n"
   ]
  },
  {
   "cell_type": "code",
   "execution_count": 50,
   "id": "e625bf9f",
   "metadata": {},
   "outputs": [
    {
     "name": "stdout",
     "output_type": "stream",
     "text": [
      "50\n",
      "40\n",
      "30\n",
      "20\n",
      "10\n"
     ]
    }
   ],
   "source": [
    "'''Exercise 8: Print list in reverse order using a loop '''\n",
    "\n",
    "list1 = [10, 20, 30, 40, 50]\n",
    "\n",
    "new_l = reversed(list1)\n",
    "\n",
    "for i in new_l:\n",
    "    print(i)"
   ]
  },
  {
   "cell_type": "code",
   "execution_count": 53,
   "id": "fcc67b73",
   "metadata": {},
   "outputs": [
    {
     "name": "stdout",
     "output_type": "stream",
     "text": [
      "-10\n",
      "-9\n",
      "-8\n",
      "-7\n",
      "-6\n",
      "-5\n",
      "-4\n",
      "-3\n",
      "-2\n",
      "-1\n"
     ]
    }
   ],
   "source": [
    "for i in range(-10,0):\n",
    "    print(i)"
   ]
  },
  {
   "cell_type": "code",
   "execution_count": null,
   "id": "0d67a8f3",
   "metadata": {},
   "outputs": [],
   "source": []
  }
 ],
 "metadata": {
  "kernelspec": {
   "display_name": "Python 3 (ipykernel)",
   "language": "python",
   "name": "python3"
  },
  "language_info": {
   "codemirror_mode": {
    "name": "ipython",
    "version": 3
   },
   "file_extension": ".py",
   "mimetype": "text/x-python",
   "name": "python",
   "nbconvert_exporter": "python",
   "pygments_lexer": "ipython3",
   "version": "3.11.5"
  }
 },
 "nbformat": 4,
 "nbformat_minor": 5
}
