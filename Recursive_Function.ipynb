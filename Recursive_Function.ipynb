{
 "cells": [
  {
   "cell_type": "markdown",
   "id": "d2850c74",
   "metadata": {},
   "source": [
    "Recursive funtions:\n",
    "    recursive functions are those functions which works as loops. \n",
    "    once code were writen in function definition then also will call same function itself within the function body.\n",
    "    in this case function will excuted with infinity till crash. to avoid such type of crashes then need to add base condition.\n",
    "    if base condition is satisfied then recursion will stoped. it returns to back by using call stack concept."
   ]
  },
  {
   "cell_type": "code",
   "execution_count": 2,
   "id": "f2695afb",
   "metadata": {},
   "outputs": [],
   "source": [
    "# Ex-1   Print list element using recrusive functions\n",
    "\n",
    "def list_elements(list, idx=0): #will accept list and index as parameter\n",
    "    if (idx == len(list)): #base condition to stop recurssion\n",
    "        return\n",
    "    print(list[idx])\n",
    "    list_elements(list, idx+1)\n"
   ]
  },
  {
   "cell_type": "code",
   "execution_count": 3,
   "id": "79017a23",
   "metadata": {},
   "outputs": [
    {
     "name": "stdout",
     "output_type": "stream",
     "text": [
      "Dell\n",
      "HP\n",
      "Acer\n",
      "Mac\n",
      "Lenovo\n",
      "Asus\n"
     ]
    }
   ],
   "source": [
    "laptops = ['Dell', 'HP','Acer', 'Mac', 'Lenovo','Asus']\n",
    "\n",
    "list_elements(laptops)"
   ]
  },
  {
   "cell_type": "code",
   "execution_count": null,
   "id": "e873a8d2",
   "metadata": {},
   "outputs": [],
   "source": []
  }
 ],
 "metadata": {
  "kernelspec": {
   "display_name": "Python 3 (ipykernel)",
   "language": "python",
   "name": "python3"
  },
  "language_info": {
   "codemirror_mode": {
    "name": "ipython",
    "version": 3
   },
   "file_extension": ".py",
   "mimetype": "text/x-python",
   "name": "python",
   "nbconvert_exporter": "python",
   "pygments_lexer": "ipython3",
   "version": "3.11.5"
  }
 },
 "nbformat": 4,
 "nbformat_minor": 5
}
